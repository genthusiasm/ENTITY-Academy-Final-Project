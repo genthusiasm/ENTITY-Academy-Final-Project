{
 "cells": [
  {
   "cell_type": "markdown",
   "id": "69cb8b62-8919-42a2-90f3-51cba8c5d75a",
   "metadata": {},
   "source": [
    "# Analysis Testing"
   ]
  },
  {
   "cell_type": "markdown",
   "id": "3d1a99f0-aab1-46e6-b90b-7beff01889e2",
   "metadata": {},
   "source": [
    "## Load Libraries"
   ]
  },
  {
   "cell_type": "code",
   "execution_count": 2,
   "id": "86d1fc84-6cbc-4865-a96e-c00f0ab89cdb",
   "metadata": {},
   "outputs": [],
   "source": [
    "library('gmodels')\n",
    "library('dplyr')\n",
    "library(\"tidyr\")\n",
    "library(rcompanion)"
   ]
  },
  {
   "cell_type": "markdown",
   "id": "64f77fe3-ab6d-4ba9-aa19-b16c8f57d8ce",
   "metadata": {
    "tags": []
   },
   "source": [
    "## Read in Data"
   ]
  },
  {
   "cell_type": "code",
   "execution_count": 5,
   "id": "fae802c7-3674-4a5c-bdaf-9c85e4a9f827",
   "metadata": {},
   "outputs": [
    {
     "data": {
      "text/html": [
       "<table class=\"dataframe\">\n",
       "<caption>A data.frame: 6 × 12</caption>\n",
       "<thead>\n",
       "\t<tr><th></th><th scope=col>incident_id</th><th scope=col>Date</th><th scope=col>REGION1</th><th scope=col>REGION2</th><th scope=col>state</th><th scope=col>Date.of.lockdown</th><th scope=col>city_or_county</th><th scope=col>address</th><th scope=col>killed</th><th scope=col>injured</th><th scope=col>mass_indicator</th><th scope=col>prepost_lockdown</th></tr>\n",
       "\t<tr><th></th><th scope=col>&lt;int&gt;</th><th scope=col>&lt;chr&gt;</th><th scope=col>&lt;chr&gt;</th><th scope=col>&lt;chr&gt;</th><th scope=col>&lt;chr&gt;</th><th scope=col>&lt;chr&gt;</th><th scope=col>&lt;chr&gt;</th><th scope=col>&lt;chr&gt;</th><th scope=col>&lt;int&gt;</th><th scope=col>&lt;int&gt;</th><th scope=col>&lt;int&gt;</th><th scope=col>&lt;chr&gt;</th></tr>\n",
       "</thead>\n",
       "<tbody>\n",
       "\t<tr><th scope=row>1</th><td>2015849</td><td>2021-05-26</td><td>MIDWEST  </td><td>EAST NORTH CENTRAL</td><td>Illinois  </td><td>2020-03-21</td><td>Chicago       </td><td>7200 block of S Princeton Ave</td><td> 0</td><td>4</td><td>0</td><td>post</td></tr>\n",
       "\t<tr><th scope=row>2</th><td>2015730</td><td>2021-05-26</td><td>WEST     </td><td>PACIFIC           </td><td>California</td><td>2020-03-19</td><td>San Jose      </td><td>101 W Younger Ave            </td><td>10</td><td>0</td><td>1</td><td>post</td></tr>\n",
       "\t<tr><th scope=row>3</th><td>2014381</td><td>2021-05-24</td><td>MIDWEST  </td><td>EAST NORTH CENTRAL</td><td>Ohio      </td><td>2020-03-23</td><td>West Jefferson</td><td>127 Jackson St               </td><td> 4</td><td>0</td><td>1</td><td>post</td></tr>\n",
       "\t<tr><th scope=row>4</th><td>2014343</td><td>2021-05-24</td><td>MIDWEST  </td><td>EAST NORTH CENTRAL</td><td>Michigan  </td><td>2020-03-24</td><td>Inkster       </td><td>27000 block of Rosewood St   </td><td> 2</td><td>2</td><td>0</td><td>post</td></tr>\n",
       "\t<tr><th scope=row>5</th><td>2013595</td><td>2021-05-23</td><td>NORTHEAST</td><td>MIDDLE ATLANTIC   </td><td>New York  </td><td>2020-03-22</td><td>Bay Shore     </td><td>135 S Clinton Ave            </td><td> 0</td><td>4</td><td>0</td><td>post</td></tr>\n",
       "\t<tr><th scope=row>6</th><td>2013096</td><td>2021-05-23</td><td>SOUTH    </td><td>SOUTH ATLANTIC    </td><td>Virginia  </td><td>2020-03-30</td><td>Norfolk       </td><td>3100 block of Westminster Ave</td><td> 0</td><td>4</td><td>0</td><td>post</td></tr>\n",
       "</tbody>\n",
       "</table>\n"
      ],
      "text/latex": [
       "A data.frame: 6 × 12\n",
       "\\begin{tabular}{r|llllllllllll}\n",
       "  & incident\\_id & Date & REGION1 & REGION2 & state & Date.of.lockdown & city\\_or\\_county & address & killed & injured & mass\\_indicator & prepost\\_lockdown\\\\\n",
       "  & <int> & <chr> & <chr> & <chr> & <chr> & <chr> & <chr> & <chr> & <int> & <int> & <int> & <chr>\\\\\n",
       "\\hline\n",
       "\t1 & 2015849 & 2021-05-26 & MIDWEST   & EAST NORTH CENTRAL & Illinois   & 2020-03-21 & Chicago        & 7200 block of S Princeton Ave &  0 & 4 & 0 & post\\\\\n",
       "\t2 & 2015730 & 2021-05-26 & WEST      & PACIFIC            & California & 2020-03-19 & San Jose       & 101 W Younger Ave             & 10 & 0 & 1 & post\\\\\n",
       "\t3 & 2014381 & 2021-05-24 & MIDWEST   & EAST NORTH CENTRAL & Ohio       & 2020-03-23 & West Jefferson & 127 Jackson St                &  4 & 0 & 1 & post\\\\\n",
       "\t4 & 2014343 & 2021-05-24 & MIDWEST   & EAST NORTH CENTRAL & Michigan   & 2020-03-24 & Inkster        & 27000 block of Rosewood St    &  2 & 2 & 0 & post\\\\\n",
       "\t5 & 2013595 & 2021-05-23 & NORTHEAST & MIDDLE ATLANTIC    & New York   & 2020-03-22 & Bay Shore      & 135 S Clinton Ave             &  0 & 4 & 0 & post\\\\\n",
       "\t6 & 2013096 & 2021-05-23 & SOUTH     & SOUTH ATLANTIC     & Virginia   & 2020-03-30 & Norfolk        & 3100 block of Westminster Ave &  0 & 4 & 0 & post\\\\\n",
       "\\end{tabular}\n"
      ],
      "text/markdown": [
       "\n",
       "A data.frame: 6 × 12\n",
       "\n",
       "| <!--/--> | incident_id &lt;int&gt; | Date &lt;chr&gt; | REGION1 &lt;chr&gt; | REGION2 &lt;chr&gt; | state &lt;chr&gt; | Date.of.lockdown &lt;chr&gt; | city_or_county &lt;chr&gt; | address &lt;chr&gt; | killed &lt;int&gt; | injured &lt;int&gt; | mass_indicator &lt;int&gt; | prepost_lockdown &lt;chr&gt; |\n",
       "|---|---|---|---|---|---|---|---|---|---|---|---|---|\n",
       "| 1 | 2015849 | 2021-05-26 | MIDWEST   | EAST NORTH CENTRAL | Illinois   | 2020-03-21 | Chicago        | 7200 block of S Princeton Ave |  0 | 4 | 0 | post |\n",
       "| 2 | 2015730 | 2021-05-26 | WEST      | PACIFIC            | California | 2020-03-19 | San Jose       | 101 W Younger Ave             | 10 | 0 | 1 | post |\n",
       "| 3 | 2014381 | 2021-05-24 | MIDWEST   | EAST NORTH CENTRAL | Ohio       | 2020-03-23 | West Jefferson | 127 Jackson St                |  4 | 0 | 1 | post |\n",
       "| 4 | 2014343 | 2021-05-24 | MIDWEST   | EAST NORTH CENTRAL | Michigan   | 2020-03-24 | Inkster        | 27000 block of Rosewood St    |  2 | 2 | 0 | post |\n",
       "| 5 | 2013595 | 2021-05-23 | NORTHEAST | MIDDLE ATLANTIC    | New York   | 2020-03-22 | Bay Shore      | 135 S Clinton Ave             |  0 | 4 | 0 | post |\n",
       "| 6 | 2013096 | 2021-05-23 | SOUTH     | SOUTH ATLANTIC     | Virginia   | 2020-03-30 | Norfolk        | 3100 block of Westminster Ave |  0 | 4 | 0 | post |\n",
       "\n"
      ],
      "text/plain": [
       "  incident_id Date       REGION1   REGION2            state     \n",
       "1 2015849     2021-05-26 MIDWEST   EAST NORTH CENTRAL Illinois  \n",
       "2 2015730     2021-05-26 WEST      PACIFIC            California\n",
       "3 2014381     2021-05-24 MIDWEST   EAST NORTH CENTRAL Ohio      \n",
       "4 2014343     2021-05-24 MIDWEST   EAST NORTH CENTRAL Michigan  \n",
       "5 2013595     2021-05-23 NORTHEAST MIDDLE ATLANTIC    New York  \n",
       "6 2013096     2021-05-23 SOUTH     SOUTH ATLANTIC     Virginia  \n",
       "  Date.of.lockdown city_or_county address                       killed injured\n",
       "1 2020-03-21       Chicago        7200 block of S Princeton Ave  0     4      \n",
       "2 2020-03-19       San Jose       101 W Younger Ave             10     0      \n",
       "3 2020-03-23       West Jefferson 127 Jackson St                 4     0      \n",
       "4 2020-03-24       Inkster        27000 block of Rosewood St     2     2      \n",
       "5 2020-03-22       Bay Shore      135 S Clinton Ave              0     4      \n",
       "6 2020-03-30       Norfolk        3100 block of Westminster Ave  0     4      \n",
       "  mass_indicator prepost_lockdown\n",
       "1 0              post            \n",
       "2 1              post            \n",
       "3 1              post            \n",
       "4 0              post            \n",
       "5 0              post            \n",
       "6 0              post            "
      ]
     },
     "metadata": {},
     "output_type": "display_data"
    }
   ],
   "source": [
    "gvdata <- read.csv('/Users/genesis/Documents/Documents - Genesis’s MacBook Air/ENTITY Academy/WozU/DSO110 Final Project/US Gun Violence Modified.csv')\n",
    "head(gvdata)"
   ]
  },
  {
   "cell_type": "markdown",
   "id": "27be4fbe-b4dd-4079-8ac8-2e7482a65aa0",
   "metadata": {},
   "source": [
    "# Question\n",
    "Do the number of incidents change before lockdown orders versus after lockdown orders?\n",
    "\n",
    "For this part, we will use an McNemar Chi-Square Test with IV being the two timepoints of pre-COVID19 Lockdown and post. Specifically, we use the date of each state for when the Stay at Home orders came into effect as the day that separates pre-pandemic days and \"post\", while technically still in the pandemic. As for the dependent variable, it is the two levels of the incidents being a mass shooting or not. \n",
    "\n",
    "### Testing Assumptions and Running the Analysis"
   ]
  },
  {
   "cell_type": "code",
   "execution_count": 12,
   "id": "bcdcd1ec-c4cc-46a0-95d6-7b199cb54cce",
   "metadata": {},
   "outputs": [
    {
     "name": "stdout",
     "output_type": "stream",
     "text": [
      "\n",
      "   Cell Contents\n",
      "|-------------------------|\n",
      "|                   Count |\n",
      "|         Expected Values |\n",
      "| Chi-square contribution |\n",
      "|             Row Percent |\n",
      "|          Column Percent |\n",
      "|           Total Percent |\n",
      "|            Std Residual |\n",
      "|-------------------------|\n",
      "\n",
      "Total Observations in Table:  2930 \n",
      "\n",
      "                        | gvdata$mass_indicator \n",
      "gvdata$prepost_lockdown |        0  |        1  | Row Total | \n",
      "------------------------|-----------|-----------|-----------|\n",
      "                   post |      716  |       33  |      749  | \n",
      "                        |  697.107  |   51.893  |           | \n",
      "                        |    0.512  |    6.879  |           | \n",
      "                        |   95.594% |    4.406% |   25.563% | \n",
      "                        |   26.256% |   16.256% |           | \n",
      "                        |   24.437% |    1.126% |           | \n",
      "                        |    0.716  |   -2.623  |           | \n",
      "------------------------|-----------|-----------|-----------|\n",
      "                    pre |     2011  |      170  |     2181  | \n",
      "                        | 2029.893  |  151.107  |           | \n",
      "                        |    0.176  |    2.362  |           | \n",
      "                        |   92.205% |    7.795% |   74.437% | \n",
      "                        |   73.744% |   83.744% |           | \n",
      "                        |   68.635% |    5.802% |           | \n",
      "                        |   -0.419  |    1.537  |           | \n",
      "------------------------|-----------|-----------|-----------|\n",
      "           Column Total |     2727  |      203  |     2930  | \n",
      "                        |   93.072% |    6.928% |           | \n",
      "------------------------|-----------|-----------|-----------|\n",
      "\n",
      " \n",
      "Statistics for All Table Factors\n",
      "\n",
      "\n",
      "Pearson's Chi-squared test \n",
      "------------------------------------------------------------\n",
      "Chi^2 =  9.928738     d.f. =  1     p =  0.001627181 \n",
      "\n",
      "Pearson's Chi-squared test with Yates' continuity correction \n",
      "------------------------------------------------------------\n",
      "Chi^2 =  9.410172     d.f. =  1     p =  0.00215785 \n",
      "\n",
      " \n",
      "Fisher's Exact Test for Count Data\n",
      "------------------------------------------------------------\n",
      "Sample estimate odds ratio:  1.833824 \n",
      "\n",
      "Alternative hypothesis: true odds ratio is not equal to 1\n",
      "p =  0.001455332 \n",
      "95% confidence interval:  1.243396 2.776998 \n",
      "\n",
      "Alternative hypothesis: true odds ratio is less than 1\n",
      "p =  0.99963 \n",
      "95% confidence interval:  0 2.59792 \n",
      "\n",
      "Alternative hypothesis: true odds ratio is greater than 1\n",
      "p =  0.000710441 \n",
      "95% confidence interval:  1.31656 Inf \n",
      "\n",
      "\n",
      " \n",
      "       Minimum expected frequency: 51.89317 \n",
      "\n"
     ]
    }
   ],
   "source": [
    "    CrossTable(gvdata$prepost_lockdown,\n",
    "               gvdata$mass_indicator, \n",
    "               fisher=TRUE, chisq = TRUE, \n",
    "               expected = TRUE, \n",
    "               sresid=TRUE, \n",
    "               format=\"SPSS\")"
   ]
  },
  {
   "cell_type": "markdown",
   "id": "2fe166f6-4c39-4bc5-b5f8-7868a0d4e743",
   "metadata": {},
   "source": [
    "### Check Assumption of Expected Frequencies\n",
    "All expected values are greater than 5. \n",
    "\n",
    "### Interpret Results\n",
    "The results are shown at the bottom of the output, under the heading Pearson's Chi-squared test. Since the p value is less than .05, this analysis is significant, meaning that the changes brought about the pandemic's lockdown mandates have in fact made a difference in the number of gun violence incidents. NOTE: DATA PRE PANDEMIC DATES BACK TO 2014 WHEREAS THE POST DATES ONLY GO UP TO MAY 2021. THIS MAY HAVE AN EFFECT IN THE OUTCOME.\n",
    "\n",
    "### Post Hoc\n",
    "We see that the standardized residual for post-pandemic incidents that are marked as a mass shooting (-2.623) is significantly different, specifically less (since it's negative), than what is expected."
   ]
  },
  {
   "cell_type": "markdown",
   "id": "b51182f6-36e0-4e18-961d-e710724e8bdf",
   "metadata": {},
   "source": [
    "# Question\n",
    "What if we only look between February 2019 through March 2020 and April 2020 through May 2021 to compare the 14 months before the pandemic hit hard versus the 14 months after? Keeping in mind that different lockdown start-dates are used by State, what would the test results tell us?"
   ]
  },
  {
   "cell_type": "code",
   "execution_count": 13,
   "id": "79941f2b-2276-4fe9-ac72-287b5a2796b7",
   "metadata": {},
   "outputs": [],
   "source": [
    "gvdata_14mosB4Nafter <- subset(gvdata, Date > as.Date(\"2019-01-31\") )"
   ]
  },
  {
   "cell_type": "code",
   "execution_count": 14,
   "id": "a8c5ede8-1c21-4b02-8edb-6a3bb7479493",
   "metadata": {},
   "outputs": [
    {
     "data": {
      "text/html": [
       "<table class=\"dataframe\">\n",
       "<caption>A data.frame: 6 × 13</caption>\n",
       "<thead>\n",
       "\t<tr><th></th><th scope=col>incident_id</th><th scope=col>Date</th><th scope=col>REGION1</th><th scope=col>REGION2</th><th scope=col>state</th><th scope=col>Date.of.lockdown</th><th scope=col>city_or_county</th><th scope=col>address</th><th scope=col>killed</th><th scope=col>injured</th><th scope=col>mass_indicator</th><th scope=col>prepost_lockdown</th><th scope=col>Date2</th></tr>\n",
       "\t<tr><th></th><th scope=col>&lt;int&gt;</th><th scope=col>&lt;chr&gt;</th><th scope=col>&lt;chr&gt;</th><th scope=col>&lt;chr&gt;</th><th scope=col>&lt;chr&gt;</th><th scope=col>&lt;chr&gt;</th><th scope=col>&lt;chr&gt;</th><th scope=col>&lt;chr&gt;</th><th scope=col>&lt;int&gt;</th><th scope=col>&lt;int&gt;</th><th scope=col>&lt;int&gt;</th><th scope=col>&lt;chr&gt;</th><th scope=col>&lt;date&gt;</th></tr>\n",
       "</thead>\n",
       "<tbody>\n",
       "\t<tr><th scope=row>1</th><td>2015849</td><td>2021-05-26</td><td>MIDWEST  </td><td>EAST NORTH CENTRAL</td><td>Illinois  </td><td>2020-03-21</td><td>Chicago       </td><td>7200 block of S Princeton Ave</td><td> 0</td><td>4</td><td>0</td><td>post</td><td>NA</td></tr>\n",
       "\t<tr><th scope=row>2</th><td>2015730</td><td>2021-05-26</td><td>WEST     </td><td>PACIFIC           </td><td>California</td><td>2020-03-19</td><td>San Jose      </td><td>101 W Younger Ave            </td><td>10</td><td>0</td><td>1</td><td>post</td><td>NA</td></tr>\n",
       "\t<tr><th scope=row>3</th><td>2014381</td><td>2021-05-24</td><td>MIDWEST  </td><td>EAST NORTH CENTRAL</td><td>Ohio      </td><td>2020-03-23</td><td>West Jefferson</td><td>127 Jackson St               </td><td> 4</td><td>0</td><td>1</td><td>post</td><td>NA</td></tr>\n",
       "\t<tr><th scope=row>4</th><td>2014343</td><td>2021-05-24</td><td>MIDWEST  </td><td>EAST NORTH CENTRAL</td><td>Michigan  </td><td>2020-03-24</td><td>Inkster       </td><td>27000 block of Rosewood St   </td><td> 2</td><td>2</td><td>0</td><td>post</td><td>NA</td></tr>\n",
       "\t<tr><th scope=row>5</th><td>2013595</td><td>2021-05-23</td><td>NORTHEAST</td><td>MIDDLE ATLANTIC   </td><td>New York  </td><td>2020-03-22</td><td>Bay Shore     </td><td>135 S Clinton Ave            </td><td> 0</td><td>4</td><td>0</td><td>post</td><td>NA</td></tr>\n",
       "\t<tr><th scope=row>6</th><td>2013096</td><td>2021-05-23</td><td>SOUTH    </td><td>SOUTH ATLANTIC    </td><td>Virginia  </td><td>2020-03-30</td><td>Norfolk       </td><td>3100 block of Westminster Ave</td><td> 0</td><td>4</td><td>0</td><td>post</td><td>NA</td></tr>\n",
       "</tbody>\n",
       "</table>\n"
      ],
      "text/latex": [
       "A data.frame: 6 × 13\n",
       "\\begin{tabular}{r|lllllllllllll}\n",
       "  & incident\\_id & Date & REGION1 & REGION2 & state & Date.of.lockdown & city\\_or\\_county & address & killed & injured & mass\\_indicator & prepost\\_lockdown & Date2\\\\\n",
       "  & <int> & <chr> & <chr> & <chr> & <chr> & <chr> & <chr> & <chr> & <int> & <int> & <int> & <chr> & <date>\\\\\n",
       "\\hline\n",
       "\t1 & 2015849 & 2021-05-26 & MIDWEST   & EAST NORTH CENTRAL & Illinois   & 2020-03-21 & Chicago        & 7200 block of S Princeton Ave &  0 & 4 & 0 & post & NA\\\\\n",
       "\t2 & 2015730 & 2021-05-26 & WEST      & PACIFIC            & California & 2020-03-19 & San Jose       & 101 W Younger Ave             & 10 & 0 & 1 & post & NA\\\\\n",
       "\t3 & 2014381 & 2021-05-24 & MIDWEST   & EAST NORTH CENTRAL & Ohio       & 2020-03-23 & West Jefferson & 127 Jackson St                &  4 & 0 & 1 & post & NA\\\\\n",
       "\t4 & 2014343 & 2021-05-24 & MIDWEST   & EAST NORTH CENTRAL & Michigan   & 2020-03-24 & Inkster        & 27000 block of Rosewood St    &  2 & 2 & 0 & post & NA\\\\\n",
       "\t5 & 2013595 & 2021-05-23 & NORTHEAST & MIDDLE ATLANTIC    & New York   & 2020-03-22 & Bay Shore      & 135 S Clinton Ave             &  0 & 4 & 0 & post & NA\\\\\n",
       "\t6 & 2013096 & 2021-05-23 & SOUTH     & SOUTH ATLANTIC     & Virginia   & 2020-03-30 & Norfolk        & 3100 block of Westminster Ave &  0 & 4 & 0 & post & NA\\\\\n",
       "\\end{tabular}\n"
      ],
      "text/markdown": [
       "\n",
       "A data.frame: 6 × 13\n",
       "\n",
       "| <!--/--> | incident_id &lt;int&gt; | Date &lt;chr&gt; | REGION1 &lt;chr&gt; | REGION2 &lt;chr&gt; | state &lt;chr&gt; | Date.of.lockdown &lt;chr&gt; | city_or_county &lt;chr&gt; | address &lt;chr&gt; | killed &lt;int&gt; | injured &lt;int&gt; | mass_indicator &lt;int&gt; | prepost_lockdown &lt;chr&gt; | Date2 &lt;date&gt; |\n",
       "|---|---|---|---|---|---|---|---|---|---|---|---|---|---|\n",
       "| 1 | 2015849 | 2021-05-26 | MIDWEST   | EAST NORTH CENTRAL | Illinois   | 2020-03-21 | Chicago        | 7200 block of S Princeton Ave |  0 | 4 | 0 | post | NA |\n",
       "| 2 | 2015730 | 2021-05-26 | WEST      | PACIFIC            | California | 2020-03-19 | San Jose       | 101 W Younger Ave             | 10 | 0 | 1 | post | NA |\n",
       "| 3 | 2014381 | 2021-05-24 | MIDWEST   | EAST NORTH CENTRAL | Ohio       | 2020-03-23 | West Jefferson | 127 Jackson St                |  4 | 0 | 1 | post | NA |\n",
       "| 4 | 2014343 | 2021-05-24 | MIDWEST   | EAST NORTH CENTRAL | Michigan   | 2020-03-24 | Inkster        | 27000 block of Rosewood St    |  2 | 2 | 0 | post | NA |\n",
       "| 5 | 2013595 | 2021-05-23 | NORTHEAST | MIDDLE ATLANTIC    | New York   | 2020-03-22 | Bay Shore      | 135 S Clinton Ave             |  0 | 4 | 0 | post | NA |\n",
       "| 6 | 2013096 | 2021-05-23 | SOUTH     | SOUTH ATLANTIC     | Virginia   | 2020-03-30 | Norfolk        | 3100 block of Westminster Ave |  0 | 4 | 0 | post | NA |\n",
       "\n"
      ],
      "text/plain": [
       "  incident_id Date       REGION1   REGION2            state     \n",
       "1 2015849     2021-05-26 MIDWEST   EAST NORTH CENTRAL Illinois  \n",
       "2 2015730     2021-05-26 WEST      PACIFIC            California\n",
       "3 2014381     2021-05-24 MIDWEST   EAST NORTH CENTRAL Ohio      \n",
       "4 2014343     2021-05-24 MIDWEST   EAST NORTH CENTRAL Michigan  \n",
       "5 2013595     2021-05-23 NORTHEAST MIDDLE ATLANTIC    New York  \n",
       "6 2013096     2021-05-23 SOUTH     SOUTH ATLANTIC     Virginia  \n",
       "  Date.of.lockdown city_or_county address                       killed injured\n",
       "1 2020-03-21       Chicago        7200 block of S Princeton Ave  0     4      \n",
       "2 2020-03-19       San Jose       101 W Younger Ave             10     0      \n",
       "3 2020-03-23       West Jefferson 127 Jackson St                 4     0      \n",
       "4 2020-03-24       Inkster        27000 block of Rosewood St     2     2      \n",
       "5 2020-03-22       Bay Shore      135 S Clinton Ave              0     4      \n",
       "6 2020-03-30       Norfolk        3100 block of Westminster Ave  0     4      \n",
       "  mass_indicator prepost_lockdown Date2\n",
       "1 0              post             <NA> \n",
       "2 1              post             <NA> \n",
       "3 1              post             <NA> \n",
       "4 0              post             <NA> \n",
       "5 0              post             <NA> \n",
       "6 0              post             <NA> "
      ]
     },
     "metadata": {},
     "output_type": "display_data"
    }
   ],
   "source": [
    "head(gvdata_14mosB4Nafter)"
   ]
  },
  {
   "cell_type": "markdown",
   "id": "ba2a41c8-c874-4590-bc79-03a9b4dda17c",
   "metadata": {},
   "source": [
    "### Run the analysis again"
   ]
  },
  {
   "cell_type": "code",
   "execution_count": 15,
   "id": "024b19c7-6295-4827-80da-2a1541de07a0",
   "metadata": {},
   "outputs": [
    {
     "name": "stdout",
     "output_type": "stream",
     "text": [
      "\n",
      "   Cell Contents\n",
      "|-------------------------|\n",
      "|                   Count |\n",
      "|         Expected Values |\n",
      "| Chi-square contribution |\n",
      "|             Row Percent |\n",
      "|          Column Percent |\n",
      "|           Total Percent |\n",
      "|            Std Residual |\n",
      "|-------------------------|\n",
      "\n",
      "Total Observations in Table:  1232 \n",
      "\n",
      "                                      | gvdata_14mosB4Nafter$mass_indicator \n",
      "gvdata_14mosB4Nafter$prepost_lockdown |        0  |        1  | Row Total | \n",
      "--------------------------------------|-----------|-----------|-----------|\n",
      "                                 post |      716  |       33  |      749  | \n",
      "                                      |  705.227  |   43.773  |           | \n",
      "                                      |    0.165  |    2.651  |           | \n",
      "                                      |   95.594% |    4.406% |   60.795% | \n",
      "                                      |   61.724% |   45.833% |           | \n",
      "                                      |   58.117% |    2.679% |           | \n",
      "                                      |    0.406  |   -1.628  |           | \n",
      "--------------------------------------|-----------|-----------|-----------|\n",
      "                                  pre |      444  |       39  |      483  | \n",
      "                                      |  454.773  |   28.227  |           | \n",
      "                                      |    0.255  |    4.111  |           | \n",
      "                                      |   91.925% |    8.075% |   39.205% | \n",
      "                                      |   38.276% |   54.167% |           | \n",
      "                                      |   36.039% |    3.166% |           | \n",
      "                                      |   -0.505  |    2.028  |           | \n",
      "--------------------------------------|-----------|-----------|-----------|\n",
      "                         Column Total |     1160  |       72  |     1232  | \n",
      "                                      |   94.156% |    5.844% |           | \n",
      "--------------------------------------|-----------|-----------|-----------|\n",
      "\n",
      " \n",
      "Statistics for All Table Factors\n",
      "\n",
      "\n",
      "Pearson's Chi-squared test \n",
      "------------------------------------------------------------\n",
      "Chi^2 =  7.182308     d.f. =  1     p =  0.007362594 \n",
      "\n",
      "Pearson's Chi-squared test with Yates' continuity correction \n",
      "------------------------------------------------------------\n",
      "Chi^2 =  6.531068     d.f. =  1     p =  0.01060063 \n",
      "\n",
      " \n",
      "Fisher's Exact Test for Count Data\n",
      "------------------------------------------------------------\n",
      "Sample estimate odds ratio:  1.904824 \n",
      "\n",
      "Alternative hypothesis: true odds ratio is not equal to 1\n",
      "p =  0.008812135 \n",
      "95% confidence interval:  1.148424 3.175855 \n",
      "\n",
      "Alternative hypothesis: true odds ratio is less than 1\n",
      "p =  0.9972056 \n",
      "95% confidence interval:  0 2.936341 \n",
      "\n",
      "Alternative hypothesis: true odds ratio is greater than 1\n",
      "p =  0.0057467 \n",
      "95% confidence interval:  1.239872 Inf \n",
      "\n",
      "\n",
      " \n",
      "       Minimum expected frequency: 28.22727 \n",
      "\n"
     ]
    }
   ],
   "source": [
    "    CrossTable(gvdata_14mosB4Nafter$prepost_lockdown,\n",
    "               gvdata_14mosB4Nafter$mass_indicator, \n",
    "               fisher=TRUE, chisq = TRUE, \n",
    "               expected = TRUE, \n",
    "               sresid=TRUE, \n",
    "               format=\"SPSS\")"
   ]
  },
  {
   "cell_type": "code",
   "execution_count": null,
   "id": "7f391962-5744-4b7a-89cf-642e993052e4",
   "metadata": {},
   "outputs": [],
   "source": []
  },
  {
   "cell_type": "markdown",
   "id": "4ce1165e-8782-4676-94d6-67c186c246c5",
   "metadata": {},
   "source": [
    "### Check Assumption of Expected Frequencies\n",
    "Once again, all expected values are greater than 5. \n",
    "\n",
    "### Interpret Results\n",
    "The results are shown at the bottom of the output, under the heading Pearson's Chi-squared test. Since the p value is less than .05, this analysis is significant, meaning that the changes brought about the pandemic's lockdown mandates do make a difference in the number of gun violence incidents. We see that the number of total incidents is higher for post versus pre. However, the number of mass shootings is slightly lower for post than pre. \n",
    "\n",
    "### Post Hoc\n",
    "We see that the standardized residual for post-pandemic incidents that are marked as a mass shooting (-1.628) is significantly different, specifically less (since it's negative), than what is expected.\n",
    "\n",
    "Once again, it is important to note that the lockdown dates differ from State to State and that a few States did not implement any lockdown or Stay-At-Home mandates. "
   ]
  },
  {
   "cell_type": "markdown",
   "id": "b15b1b64-fa80-48ed-a650-46ceb935c17d",
   "metadata": {},
   "source": [
    "# Question\n",
    "\n",
    "What, if any, regional differences might there be with gun violence incidents pre and post lockdown mandates?"
   ]
  },
  {
   "cell_type": "code",
   "execution_count": 16,
   "id": "87c91a23-1288-4fd5-91e0-7201d9b6c447",
   "metadata": {},
   "outputs": [
    {
     "name": "stdout",
     "output_type": "stream",
     "text": [
      "\n",
      "   Cell Contents\n",
      "|-------------------------|\n",
      "|                   Count |\n",
      "|         Expected Values |\n",
      "| Chi-square contribution |\n",
      "|             Row Percent |\n",
      "|          Column Percent |\n",
      "|           Total Percent |\n",
      "|            Std Residual |\n",
      "|-------------------------|\n",
      "\n",
      "Total Observations in Table:  1232 \n",
      "\n",
      "                             | gvdata_14mosB4Nafter$prepost_lockdown \n",
      "gvdata_14mosB4Nafter$REGION1 |     post  |      pre  | Row Total | \n",
      "-----------------------------|-----------|-----------|-----------|\n",
      "                     MIDWEST |      200  |      128  |      328  | \n",
      "                             |  199.409  |  128.591  |           | \n",
      "                             |    0.002  |    0.003  |           | \n",
      "                             |   60.976% |   39.024% |   26.623% | \n",
      "                             |   26.702% |   26.501% |           | \n",
      "                             |   16.234% |   10.390% |           | \n",
      "                             |    0.042  |   -0.052  |           | \n",
      "-----------------------------|-----------|-----------|-----------|\n",
      "                   NORTHEAST |      122  |       51  |      173  | \n",
      "                             |  105.176  |   67.824  |           | \n",
      "                             |    2.691  |    4.173  |           | \n",
      "                             |   70.520% |   29.480% |   14.042% | \n",
      "                             |   16.288% |   10.559% |           | \n",
      "                             |    9.903% |    4.140% |           | \n",
      "                             |    1.640  |   -2.043  |           | \n",
      "-----------------------------|-----------|-----------|-----------|\n",
      "                       SOUTH |      333  |      222  |      555  | \n",
      "                             |  337.415  |  217.585  |           | \n",
      "                             |    0.058  |    0.090  |           | \n",
      "                             |   60.000% |   40.000% |   45.049% | \n",
      "                             |   44.459% |   45.963% |           | \n",
      "                             |   27.029% |   18.019% |           | \n",
      "                             |   -0.240  |    0.299  |           | \n",
      "-----------------------------|-----------|-----------|-----------|\n",
      "                        WEST |       94  |       82  |      176  | \n",
      "                             |  107.000  |   69.000  |           | \n",
      "                             |    1.579  |    2.449  |           | \n",
      "                             |   53.409% |   46.591% |   14.286% | \n",
      "                             |   12.550% |   16.977% |           | \n",
      "                             |    7.630% |    6.656% |           | \n",
      "                             |   -1.257  |    1.565  |           | \n",
      "-----------------------------|-----------|-----------|-----------|\n",
      "                Column Total |      749  |      483  |     1232  | \n",
      "                             |   60.795% |   39.205% |           | \n",
      "-----------------------------|-----------|-----------|-----------|\n",
      "\n",
      " \n",
      "Statistics for All Table Factors\n",
      "\n",
      "\n",
      "Pearson's Chi-squared test \n",
      "------------------------------------------------------------\n",
      "Chi^2 =  11.04484     d.f. =  3     p =  0.01148584 \n",
      "\n"
     ]
    },
    {
     "ename": "ERROR",
     "evalue": "Error in mcnemar.test(t, correct = FALSE): 'x' must be square with at least two rows and columns\n",
     "output_type": "error",
     "traceback": [
      "Error in mcnemar.test(t, correct = FALSE): 'x' must be square with at least two rows and columns\nTraceback:\n",
      "1. CrossTable(gvdata_14mosB4Nafter$REGION1, gvdata_14mosB4Nafter$prepost_lockdown, \n .     fisher = TRUE, chisq = TRUE, mcnemar = TRUE, expected = TRUE, \n .     sresid = TRUE, format = \"SPSS\")",
      "2. print.statistics()",
      "3. mcnemar.test(t, correct = FALSE)",
      "4. stop(\"'x' must be square with at least two rows and columns\")"
     ]
    }
   ],
   "source": [
    "CrossTable(gvdata_14mosB4Nafter$REGION1, \n",
    "           gvdata_14mosB4Nafter$prepost_lockdown, \n",
    "           fisher=TRUE, chisq = TRUE, \n",
    "           mcnemar = TRUE, \n",
    "           expected = TRUE, \n",
    "           sresid=TRUE, \n",
    "           format=\"SPSS\") "
   ]
  },
  {
   "cell_type": "markdown",
   "id": "1146a328-728a-4286-912a-95d31421610d",
   "metadata": {},
   "source": [
    "### Interpret the results\n",
    "With p-value less than 0.05, there is significant difference among the regions, pre pandemic and throughout the pandemic. Note that again, there are more gun violence incidents post lockdown mandates versus pre lockdown mandates. Also note that nearly 45% of mass shooting incidents are from the SOUTH region. This may be worth looking into more. "
   ]
  }
 ],
 "metadata": {
  "kernelspec": {
   "display_name": "R",
   "language": "R",
   "name": "ir"
  },
  "language_info": {
   "codemirror_mode": "r",
   "file_extension": ".r",
   "mimetype": "text/x-r-source",
   "name": "R",
   "pygments_lexer": "r",
   "version": "4.1.2"
  }
 },
 "nbformat": 4,
 "nbformat_minor": 5
}
